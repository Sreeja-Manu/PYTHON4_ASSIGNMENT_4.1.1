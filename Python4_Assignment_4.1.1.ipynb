{
 "cells": [
  {
   "cell_type": "markdown",
   "metadata": {},
   "source": [
    "#### 4.1.1. Program(with class concepts) to find the area of the triangle using formula: area=(s*(s-a)*(s-b)*(s-c))*** 0.5. Function to take length of the sides of the triangle  defined in the parent class and function to calculate the area defined in subclass"
   ]
  },
  {
   "cell_type": "code",
   "execution_count": 1,
   "metadata": {},
   "outputs": [],
   "source": [
    "class Triangle:\n",
    "    def __init__(self,a,b,c):\n",
    "        self.a=a\n",
    "        self.b=b\n",
    "        self.c=c\n",
    "        print (\"Sides of triangle obtained from parent 'class Triangle': a=\" +  str(a) + \" b=\" + str(b) + \" c=\" + str(c))\n",
    "     \n",
    "     \n",
    "        \n",
    "class FindArea(Triangle):\n",
    "    def __init__(self,a,b,c):\n",
    "        super(FindArea,self).__init__(a,b,c)\n",
    "        \n",
    "    def calculate_area(self):\n",
    "        s=(self.a+self.b+self.c)/2\n",
    "        print(\"s= \",str(s))\n",
    "        return \"Area = (s*(s-a)*(s-b)*(s-c))**0.5 = %0.3f\"  %((s*(s-self.a)*(s-self.b)*(s-self.c))**0.5)\n",
    "    \n",
    "    "
   ]
  },
  {
   "cell_type": "code",
   "execution_count": 2,
   "metadata": {},
   "outputs": [
    {
     "name": "stdout",
     "output_type": "stream",
     "text": [
      "Sides of triangle obtained from parent 'class Triangle': a=3 b=4 c=5\n",
      "s=  6.0\n",
      "Area = (s*(s-a)*(s-b)*(s-c))**0.5 = 6.000\n"
     ]
    }
   ],
   "source": [
    "#Output\n",
    "\n",
    "Area=FindArea(3,4,5)  \n",
    "print(Area.calculate_area())\n"
   ]
  },
  {
   "cell_type": "code",
   "execution_count": 3,
   "metadata": {},
   "outputs": [
    {
     "name": "stdout",
     "output_type": "stream",
     "text": [
      "Sides of triangle obtained from parent 'class Triangle': a=4 b=5 c=6\n",
      "s=  7.5\n",
      "Area = (s*(s-a)*(s-b)*(s-c))**0.5 = 9.922\n"
     ]
    }
   ],
   "source": [
    "#Output with another set of variables\n",
    "\n",
    "Area=FindArea(4,5,6)  \n",
    "print(Area.calculate_area())\n"
   ]
  },
  {
   "cell_type": "code",
   "execution_count": null,
   "metadata": {},
   "outputs": [],
   "source": []
  }
 ],
 "metadata": {
  "kernelspec": {
   "display_name": "Python 3",
   "language": "python",
   "name": "python3"
  },
  "language_info": {
   "codemirror_mode": {
    "name": "ipython",
    "version": 3
   },
   "file_extension": ".py",
   "mimetype": "text/x-python",
   "name": "python",
   "nbconvert_exporter": "python",
   "pygments_lexer": "ipython3",
   "version": "3.7.0"
  }
 },
 "nbformat": 4,
 "nbformat_minor": 2
}
